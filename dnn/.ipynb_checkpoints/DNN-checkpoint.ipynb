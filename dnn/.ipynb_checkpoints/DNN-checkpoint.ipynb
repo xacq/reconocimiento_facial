{
 "cells": [
  {
   "cell_type": "code",
   "execution_count": null,
   "id": "2d42ed71-8803-4bdf-bff8-16b3f3ece066",
   "metadata": {},
   "outputs": [],
   "source": []
  },
  {
   "cell_type": "code",
   "execution_count": null,
   "id": "531e5158-e29a-4e00-8b9d-3ce1b0b4798e",
   "metadata": {},
   "outputs": [],
   "source": [
    "import face_recognition\n",
    "import cv2\n",
    "import numpy as np\n",
    "import matplotlib.pyplot as plt\n",
    "import os"
   ]
  },
  {
   "cell_type": "code",
   "execution_count": null,
   "id": "ca2a03b4-a4b5-4020-aa9c-f83824cfec28",
   "metadata": {},
   "outputs": [],
   "source": [
    "def load_known_faces(folder_path):\n",
    "    known_encodings = []\n",
    "    known_names = []\n",
    "    \n",
    "    for filename in os.listdir(folder_path):\n",
    "        if filename.endswith((\".jpg\", \".png\", \".jpeg\")):\n",
    "            image_path = os.path.join(folder_path, filename)\n",
    "            image = face_recognition.load_image_file(image_path)\n",
    "            \n",
    "            face_encoding = face_recognition.face_encodings(image)\n",
    "            \n",
    "            if face_encoding:\n",
    "                known_encodings.append(face_encoding[0])\n",
    "                known_names.append(os.path.splitext(filename)[0])\n",
    "    \n",
    "    return known_encodings, known_names"
   ]
  },
  {
   "cell_type": "code",
   "execution_count": null,
   "id": "b7614198-86ea-48b7-9931-5028aff46d33",
   "metadata": {},
   "outputs": [],
   "source": [
    "def recognize_faces(image_path, known_encodings, known_names, tolerance=0.6):\n",
    "    image = cv2.imread(image_path)\n",
    "    rgb_image = cv2.cvtColor(image, cv2.COLOR_BGR2RGB)\n",
    "    \n",
    "    face_locations = face_recognition.face_locations(rgb_image)\n",
    "    face_encodings = face_recognition.face_encodings(rgb_image, face_locations)\n",
    "    \n",
    "    face_names = []\n",
    "    for face_encoding in face_encodings:\n",
    "        distances = face_recognition.face_distance(known_encodings, face_encoding)\n",
    "        min_distance = np.min(distances)\n",
    "        \n",
    "        if min_distance <= tolerance:\n",
    "            name = known_names[np.argmin(distances)]\n",
    "        else:\n",
    "            name = \"Desconocido\"\n",
    "        \n",
    "        face_names.append(name)\n",
    "    \n",
    "    for (top, right, bottom, left), name in zip(face_locations, face_names):\n",
    "        cv2.rectangle(image, (left, top), (right, bottom), (0, 255, 0), 2)\n",
    "        cv2.rectangle(image, (left, bottom - 25), (right, bottom), (0, 255, 0), cv2.FILLED)\n",
    "        font = cv2.FONT_HERSHEY_DUPLEX\n",
    "        cv2.putText(image, name, (left + 6, bottom - 6), font, 0.8, (255, 255, 255), 1)\n",
    "    \n",
    "    return image"
   ]
  },
  {
   "cell_type": "code",
   "execution_count": null,
   "id": "d7589d5f-2b8b-479c-9c6e-60f6c6432ffa",
   "metadata": {},
   "outputs": [],
   "source": [
    "known_faces_path = \"known_faces\"\n",
    "known_encodings, known_names = load_known_faces(known_faces_path)\n",
    "\n",
    "print(f\"Rostros cargados: {len(known_encodings)}\")\n",
    "print(\"Nombres:\", known_names)"
   ]
  },
  {
   "cell_type": "code",
   "execution_count": null,
   "id": "ffafa042-4121-4237-9c9a-1e0528673370",
   "metadata": {},
   "outputs": [],
   "source": [
    "test_image_path = \"test_image.jpg\"\n",
    "result_image = recognize_faces(test_image_path, known_encodings, known_names)\n",
    "\n",
    "# Mostrar resultado\n",
    "plt.figure(figsize=(12, 8))\n",
    "plt.imshow(cv2.cvtColor(result_image, cv2.COLOR_BGR2RGB))\n",
    "plt.axis('off')\n",
    "plt.show()"
   ]
  }
 ],
 "metadata": {
  "kernelspec": {
   "display_name": "Python 3 (ipykernel)",
   "language": "python",
   "name": "python3"
  },
  "language_info": {
   "codemirror_mode": {
    "name": "ipython",
    "version": 3
   },
   "file_extension": ".py",
   "mimetype": "text/x-python",
   "name": "python",
   "nbconvert_exporter": "python",
   "pygments_lexer": "ipython3",
   "version": "3.10.6"
  }
 },
 "nbformat": 4,
 "nbformat_minor": 5
}
